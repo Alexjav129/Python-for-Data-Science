{
 "cells": [
  {
   "cell_type": "markdown",
   "id": "b997c411",
   "metadata": {},
   "source": [
    "# Introducción a Python"
   ]
  },
  {
   "cell_type": "code",
   "execution_count": 1,
   "id": "4ea967a9",
   "metadata": {},
   "outputs": [],
   "source": [
    "import numpy as np\n",
    "import pandas as pd\n",
    "import math"
   ]
  },
  {
   "cell_type": "markdown",
   "id": "6d5f56b9",
   "metadata": {},
   "source": [
    "## Tipos de datos"
   ]
  },
  {
   "cell_type": "code",
   "execution_count": 2,
   "id": "f4d2d2e4",
   "metadata": {},
   "outputs": [
    {
     "data": {
      "text/plain": [
       "'Hola mundo'"
      ]
     },
     "execution_count": 2,
     "metadata": {},
     "output_type": "execute_result"
    }
   ],
   "source": [
    "'Hola mundo'"
   ]
  },
  {
   "cell_type": "code",
   "execution_count": 3,
   "id": "9ad99286",
   "metadata": {},
   "outputs": [
    {
     "name": "stdout",
     "output_type": "stream",
     "text": [
      "Hola Mundo\n"
     ]
    }
   ],
   "source": [
    "print('Hola Mundo')"
   ]
  },
  {
   "cell_type": "code",
   "execution_count": 4,
   "id": "1a26e1a2",
   "metadata": {},
   "outputs": [
    {
     "data": {
      "text/plain": [
       "\"\\nint 50\\nfloat 50.6\\nstring 'hola grupo'\\nbool True False\\nNone\\nlist = [int,float,cadenas,bool,None,list]\\ntupla = (‘Dana’, ‘Zareth’)\\ndictionary = {valor_en_la_data : nuevo} \\n\""
      ]
     },
     "execution_count": 4,
     "metadata": {},
     "output_type": "execute_result"
    }
   ],
   "source": [
    "#Comentario\n",
    "'''\n",
    "int 50\n",
    "float 50.6\n",
    "string 'hola grupo'\n",
    "bool True False\n",
    "None\n",
    "list = [int,float,cadenas,bool,None,list]\n",
    "tupla = (‘Dana’, ‘Zareth’)\n",
    "dictionary = {valor_en_la_data : nuevo} \n",
    "'''"
   ]
  },
  {
   "cell_type": "code",
   "execution_count": 5,
   "id": "f51393f4",
   "metadata": {},
   "outputs": [],
   "source": [
    "# int?\n",
    "# ?int\n",
    "# help(int) "
   ]
  },
  {
   "cell_type": "code",
   "execution_count": 6,
   "id": "20226b61",
   "metadata": {},
   "outputs": [
    {
     "name": "stdout",
     "output_type": "stream",
     "text": [
      "50\n"
     ]
    }
   ],
   "source": [
    "print(50)"
   ]
  },
  {
   "cell_type": "code",
   "execution_count": 7,
   "id": "a11086d0",
   "metadata": {},
   "outputs": [
    {
     "name": "stdout",
     "output_type": "stream",
     "text": [
      "50.0\n"
     ]
    }
   ],
   "source": [
    "print(50.)"
   ]
  },
  {
   "cell_type": "code",
   "execution_count": 8,
   "id": "be4ba76c",
   "metadata": {},
   "outputs": [
    {
     "data": {
      "text/plain": [
       "int"
      ]
     },
     "execution_count": 8,
     "metadata": {},
     "output_type": "execute_result"
    }
   ],
   "source": [
    "a = 50\n",
    "type(a)"
   ]
  },
  {
   "cell_type": "code",
   "execution_count": 9,
   "id": "723b0d91",
   "metadata": {},
   "outputs": [
    {
     "data": {
      "text/plain": [
       "float"
      ]
     },
     "execution_count": 9,
     "metadata": {},
     "output_type": "execute_result"
    }
   ],
   "source": [
    "b = 20.0\n",
    "type(b)"
   ]
  },
  {
   "cell_type": "code",
   "execution_count": 10,
   "id": "e7b8f12c",
   "metadata": {},
   "outputs": [
    {
     "data": {
      "text/plain": [
       "18446744073709551616"
      ]
     },
     "execution_count": 10,
     "metadata": {},
     "output_type": "execute_result"
    }
   ],
   "source": [
    "2 ** 64\n"
   ]
  },
  {
   "cell_type": "code",
   "execution_count": 11,
   "id": "c96f74e7",
   "metadata": {},
   "outputs": [
    {
     "name": "stdout",
     "output_type": "stream",
     "text": [
      "Esto es una cadena\n"
     ]
    }
   ],
   "source": [
    "# 'esto es una cadena'\n",
    "print('Esto es una cadena')"
   ]
  },
  {
   "cell_type": "code",
   "execution_count": 12,
   "id": "4a067420",
   "metadata": {},
   "outputs": [
    {
     "name": "stdout",
     "output_type": "stream",
     "text": [
      "hola grupo 50 bienvenidos\n"
     ]
    }
   ],
   "source": [
    "print('hola grupo', a, 'bienvenidos')"
   ]
  },
  {
   "cell_type": "code",
   "execution_count": 13,
   "id": "ae73c300",
   "metadata": {},
   "outputs": [
    {
     "data": {
      "text/plain": [
       "bool"
      ]
     },
     "execution_count": 13,
     "metadata": {},
     "output_type": "execute_result"
    }
   ],
   "source": [
    "type(True)"
   ]
  },
  {
   "cell_type": "code",
   "execution_count": 14,
   "id": "ccc36eb9",
   "metadata": {},
   "outputs": [
    {
     "data": {
      "text/plain": [
       "bool"
      ]
     },
     "execution_count": 14,
     "metadata": {},
     "output_type": "execute_result"
    }
   ],
   "source": [
    "type(False)"
   ]
  },
  {
   "cell_type": "code",
   "execution_count": 15,
   "id": "4cf5bc0e",
   "metadata": {},
   "outputs": [
    {
     "data": {
      "text/plain": [
       "True"
      ]
     },
     "execution_count": 15,
     "metadata": {},
     "output_type": "execute_result"
    }
   ],
   "source": [
    "a = True\n",
    "a"
   ]
  },
  {
   "cell_type": "code",
   "execution_count": 16,
   "id": "47b36ba6",
   "metadata": {},
   "outputs": [
    {
     "data": {
      "text/plain": [
       "True"
      ]
     },
     "execution_count": 16,
     "metadata": {},
     "output_type": "execute_result"
    }
   ],
   "source": [
    "a"
   ]
  },
  {
   "cell_type": "code",
   "execution_count": 17,
   "id": "b6cf004f",
   "metadata": {},
   "outputs": [
    {
     "data": {
      "text/plain": [
       "NoneType"
      ]
     },
     "execution_count": 17,
     "metadata": {},
     "output_type": "execute_result"
    }
   ],
   "source": [
    "type(None)"
   ]
  },
  {
   "cell_type": "code",
   "execution_count": 18,
   "id": "ed837704",
   "metadata": {},
   "outputs": [
    {
     "data": {
      "text/plain": [
       "NoneType"
      ]
     },
     "execution_count": 18,
     "metadata": {},
     "output_type": "execute_result"
    }
   ],
   "source": [
    "c = None\n",
    "type(c)"
   ]
  },
  {
   "cell_type": "code",
   "execution_count": 19,
   "id": "793f9f3f",
   "metadata": {},
   "outputs": [
    {
     "name": "stdout",
     "output_type": "stream",
     "text": [
      "None\n"
     ]
    }
   ],
   "source": [
    "print(c)"
   ]
  },
  {
   "cell_type": "markdown",
   "id": "1b6a3cfa",
   "metadata": {},
   "source": [
    "## Condicionales"
   ]
  },
  {
   "cell_type": "code",
   "execution_count": 20,
   "id": "89601819",
   "metadata": {},
   "outputs": [
    {
     "name": "stdout",
     "output_type": "stream",
     "text": [
      "Falsa\n",
      "8\n",
      "No semana i\n"
     ]
    }
   ],
   "source": [
    "if (5<2):\n",
    "    print(5+4)\n",
    "    print('Semana i')\n",
    "else:\n",
    "    print('Falsa')\n",
    "    print(4+4)\n",
    "    print('No semana i')\n",
    "    "
   ]
  },
  {
   "cell_type": "markdown",
   "id": "763c8541",
   "metadata": {},
   "source": [
    "### Operaciones básicas"
   ]
  },
  {
   "cell_type": "code",
   "execution_count": 21,
   "id": "dd776d69",
   "metadata": {},
   "outputs": [],
   "source": [
    "a = 11\n",
    "b = 5"
   ]
  },
  {
   "cell_type": "code",
   "execution_count": 22,
   "id": "df32b9d6",
   "metadata": {},
   "outputs": [
    {
     "data": {
      "text/plain": [
       "16"
      ]
     },
     "execution_count": 22,
     "metadata": {},
     "output_type": "execute_result"
    }
   ],
   "source": [
    "a + b "
   ]
  },
  {
   "cell_type": "code",
   "execution_count": 23,
   "id": "66a97d2d",
   "metadata": {},
   "outputs": [
    {
     "data": {
      "text/plain": [
       "16"
      ]
     },
     "execution_count": 23,
     "metadata": {},
     "output_type": "execute_result"
    }
   ],
   "source": [
    "c = a + b\n",
    "c"
   ]
  },
  {
   "cell_type": "code",
   "execution_count": 24,
   "id": "c2fe8e96",
   "metadata": {},
   "outputs": [
    {
     "data": {
      "text/plain": [
       "55"
      ]
     },
     "execution_count": 24,
     "metadata": {},
     "output_type": "execute_result"
    }
   ],
   "source": [
    "a * b"
   ]
  },
  {
   "cell_type": "code",
   "execution_count": 25,
   "id": "557de8af",
   "metadata": {},
   "outputs": [
    {
     "data": {
      "text/plain": [
       "2.2"
      ]
     },
     "execution_count": 25,
     "metadata": {},
     "output_type": "execute_result"
    }
   ],
   "source": [
    "a / b"
   ]
  },
  {
   "cell_type": "code",
   "execution_count": 26,
   "id": "e0f7043e",
   "metadata": {},
   "outputs": [
    {
     "data": {
      "text/plain": [
       "2"
      ]
     },
     "execution_count": 26,
     "metadata": {},
     "output_type": "execute_result"
    }
   ],
   "source": [
    "a // b"
   ]
  },
  {
   "cell_type": "code",
   "execution_count": 27,
   "id": "ca3e7c24",
   "metadata": {},
   "outputs": [
    {
     "data": {
      "text/plain": [
       "161051"
      ]
     },
     "execution_count": 27,
     "metadata": {},
     "output_type": "execute_result"
    }
   ],
   "source": [
    "pow(a,b)"
   ]
  },
  {
   "cell_type": "code",
   "execution_count": 28,
   "id": "0bb26c36",
   "metadata": {},
   "outputs": [
    {
     "data": {
      "text/plain": [
       "10"
      ]
     },
     "execution_count": 28,
     "metadata": {},
     "output_type": "execute_result"
    }
   ],
   "source": [
    "round(10.5)"
   ]
  },
  {
   "cell_type": "code",
   "execution_count": 29,
   "id": "ecfe8642",
   "metadata": {},
   "outputs": [
    {
     "data": {
      "text/plain": [
       "11"
      ]
     },
     "execution_count": 29,
     "metadata": {},
     "output_type": "execute_result"
    }
   ],
   "source": [
    "round(10.5000001)"
   ]
  },
  {
   "cell_type": "code",
   "execution_count": 30,
   "id": "bc8bed7e",
   "metadata": {},
   "outputs": [
    {
     "data": {
      "text/plain": [
       "-10"
      ]
     },
     "execution_count": 30,
     "metadata": {},
     "output_type": "execute_result"
    }
   ],
   "source": [
    "round(-10.50)"
   ]
  },
  {
   "cell_type": "code",
   "execution_count": 31,
   "id": "944dcf3f",
   "metadata": {},
   "outputs": [
    {
     "data": {
      "text/plain": [
       "-11"
      ]
     },
     "execution_count": 31,
     "metadata": {},
     "output_type": "execute_result"
    }
   ],
   "source": [
    "round(-10.5001)"
   ]
  },
  {
   "cell_type": "code",
   "execution_count": 32,
   "id": "09ff1837",
   "metadata": {},
   "outputs": [
    {
     "data": {
      "text/plain": [
       "3.14"
      ]
     },
     "execution_count": 32,
     "metadata": {},
     "output_type": "execute_result"
    }
   ],
   "source": [
    "d = round(3.141616,2)\n",
    "d"
   ]
  },
  {
   "cell_type": "code",
   "execution_count": 33,
   "id": "c8150441",
   "metadata": {},
   "outputs": [
    {
     "data": {
      "text/plain": [
       "2"
      ]
     },
     "execution_count": 33,
     "metadata": {},
     "output_type": "execute_result"
    }
   ],
   "source": [
    "from math import floor\n",
    "floor(7 / 3)"
   ]
  },
  {
   "cell_type": "code",
   "execution_count": 34,
   "id": "25dc84af",
   "metadata": {},
   "outputs": [
    {
     "data": {
      "text/plain": [
       "3"
      ]
     },
     "execution_count": 34,
     "metadata": {},
     "output_type": "execute_result"
    }
   ],
   "source": [
    "from math import ceil\n",
    "ceil(7 / 3)"
   ]
  },
  {
   "cell_type": "code",
   "execution_count": 35,
   "id": "5baae9e4",
   "metadata": {},
   "outputs": [
    {
     "data": {
      "text/plain": [
       "1000"
      ]
     },
     "execution_count": 35,
     "metadata": {},
     "output_type": "execute_result"
    }
   ],
   "source": [
    "ceil(999.00000001)"
   ]
  },
  {
   "cell_type": "code",
   "execution_count": 36,
   "id": "bac7a88d",
   "metadata": {},
   "outputs": [
    {
     "data": {
      "text/plain": [
       "0.3"
      ]
     },
     "execution_count": 36,
     "metadata": {},
     "output_type": "execute_result"
    }
   ],
   "source": [
    "round((.1 + .1 + .1),2)"
   ]
  },
  {
   "cell_type": "code",
   "execution_count": 37,
   "id": "7ea25b73",
   "metadata": {},
   "outputs": [
    {
     "data": {
      "text/plain": [
       "0.30000000000000004"
      ]
     },
     "execution_count": 37,
     "metadata": {},
     "output_type": "execute_result"
    }
   ],
   "source": [
    ".1 * 3"
   ]
  },
  {
   "cell_type": "code",
   "execution_count": 38,
   "id": "cc4de3f2",
   "metadata": {},
   "outputs": [
    {
     "data": {
      "text/plain": [
       "Decimal('8.230000000000000426325641456060111522674560546875')"
      ]
     },
     "execution_count": 38,
     "metadata": {},
     "output_type": "execute_result"
    }
   ],
   "source": [
    "from decimal import Decimal\n",
    "Decimal(8.23)"
   ]
  },
  {
   "cell_type": "code",
   "execution_count": 39,
   "id": "951fe8ec",
   "metadata": {},
   "outputs": [
    {
     "data": {
      "text/plain": [
       "8"
      ]
     },
     "execution_count": 39,
     "metadata": {},
     "output_type": "execute_result"
    }
   ],
   "source": [
    "abs(-8)"
   ]
  },
  {
   "cell_type": "code",
   "execution_count": 40,
   "id": "334b82cf",
   "metadata": {},
   "outputs": [
    {
     "data": {
      "text/plain": [
       "25"
      ]
     },
     "execution_count": 40,
     "metadata": {},
     "output_type": "execute_result"
    }
   ],
   "source": [
    "max(15, 18,  4, 6, 25, 10)"
   ]
  },
  {
   "cell_type": "code",
   "execution_count": 41,
   "id": "3be37a2b",
   "metadata": {},
   "outputs": [
    {
     "data": {
      "text/plain": [
       "4"
      ]
     },
     "execution_count": 41,
     "metadata": {},
     "output_type": "execute_result"
    }
   ],
   "source": [
    "min(15, 18,  4, 6, 25, 10)"
   ]
  },
  {
   "cell_type": "code",
   "execution_count": 42,
   "id": "df7efb7b",
   "metadata": {},
   "outputs": [
    {
     "data": {
      "text/plain": [
       "13.0"
      ]
     },
     "execution_count": 42,
     "metadata": {},
     "output_type": "execute_result"
    }
   ],
   "source": [
    "np.mean((15, 18,  4, 6, 25, 10)) "
   ]
  },
  {
   "cell_type": "code",
   "execution_count": 43,
   "id": "4eb6e478",
   "metadata": {},
   "outputs": [
    {
     "data": {
      "text/plain": [
       "12.5"
      ]
     },
     "execution_count": 43,
     "metadata": {},
     "output_type": "execute_result"
    }
   ],
   "source": [
    "np.median((15, 18,  4, 6, 25, 10)) #tupla"
   ]
  },
  {
   "cell_type": "code",
   "execution_count": 44,
   "id": "772d6a9c",
   "metadata": {},
   "outputs": [
    {
     "data": {
      "text/plain": [
       "12.5"
      ]
     },
     "execution_count": 44,
     "metadata": {},
     "output_type": "execute_result"
    }
   ],
   "source": [
    "np.median([15, 18,  4, 6, 25, 10]) # Lista"
   ]
  },
  {
   "cell_type": "code",
   "execution_count": 45,
   "id": "55547d77",
   "metadata": {},
   "outputs": [],
   "source": [
    "f= np.std([15, 18, 4, 6, 25, 10])"
   ]
  },
  {
   "cell_type": "code",
   "execution_count": 46,
   "id": "e879fd9c",
   "metadata": {},
   "outputs": [
    {
     "name": "stdout",
     "output_type": "stream",
     "text": [
      "7.21\n"
     ]
    }
   ],
   "source": [
    "print(round(np.std([15, 18, 4, 6, 25, 10]), 2))"
   ]
  },
  {
   "cell_type": "code",
   "execution_count": 47,
   "id": "0162e71e",
   "metadata": {},
   "outputs": [
    {
     "name": "stdout",
     "output_type": "stream",
     "text": [
      "el peso de los mexicanos es 7.21\n"
     ]
    }
   ],
   "source": [
    "print('el peso de los mexicanos es', round(f, 2))"
   ]
  },
  {
   "cell_type": "code",
   "execution_count": 48,
   "id": "b7c4ea99",
   "metadata": {},
   "outputs": [
    {
     "data": {
      "text/plain": [
       "78"
      ]
     },
     "execution_count": 48,
     "metadata": {},
     "output_type": "execute_result"
    }
   ],
   "source": [
    "sum([15, 18, 4, 6, 25, 10])"
   ]
  },
  {
   "cell_type": "code",
   "execution_count": 49,
   "id": "a0eafea3",
   "metadata": {},
   "outputs": [
    {
     "data": {
      "text/plain": [
       "78"
      ]
     },
     "execution_count": 49,
     "metadata": {},
     "output_type": "execute_result"
    }
   ],
   "source": [
    "sum((15, 18, 4, 6, 25, 10))"
   ]
  },
  {
   "cell_type": "code",
   "execution_count": 50,
   "id": "812f996c",
   "metadata": {},
   "outputs": [],
   "source": [
    "a= [15, 18, 4, 6, 25, 10]"
   ]
  },
  {
   "cell_type": "code",
   "execution_count": 51,
   "id": "2bccdb5b",
   "metadata": {},
   "outputs": [
    {
     "data": {
      "text/plain": [
       "[4, 6, 10, 15, 18, 25]"
      ]
     },
     "execution_count": 51,
     "metadata": {},
     "output_type": "execute_result"
    }
   ],
   "source": [
    "sorted(a)\n",
    "[4, 6, 10, 15, 18, 25]"
   ]
  },
  {
   "cell_type": "code",
   "execution_count": 52,
   "id": "622a54f9",
   "metadata": {},
   "outputs": [
    {
     "data": {
      "text/plain": [
       "6"
      ]
     },
     "execution_count": 52,
     "metadata": {},
     "output_type": "execute_result"
    }
   ],
   "source": [
    "len(a)"
   ]
  },
  {
   "cell_type": "code",
   "execution_count": 53,
   "id": "e1e8c3cd",
   "metadata": {},
   "outputs": [
    {
     "name": "stdout",
     "output_type": "stream",
     "text": [
      "None\n"
     ]
    }
   ],
   "source": [
    "print(a.reverse())"
   ]
  },
  {
   "cell_type": "code",
   "execution_count": 54,
   "id": "9b1c6406",
   "metadata": {},
   "outputs": [
    {
     "data": {
      "text/plain": [
       "[25, 18, 15, 10, 6, 4]"
      ]
     },
     "execution_count": 54,
     "metadata": {},
     "output_type": "execute_result"
    }
   ],
   "source": [
    "sorted(a, reverse = True)"
   ]
  },
  {
   "cell_type": "code",
   "execution_count": 55,
   "id": "dee5a788",
   "metadata": {},
   "outputs": [
    {
     "ename": "NameError",
     "evalue": "name 'nombres' is not defined",
     "output_type": "error",
     "traceback": [
      "\u001b[0;31m---------------------------------------------------------------------------\u001b[0m",
      "\u001b[0;31mNameError\u001b[0m                                 Traceback (most recent call last)",
      "\u001b[0;32m<ipython-input-55-28559fd9584f>\u001b[0m in \u001b[0;36m<module>\u001b[0;34m\u001b[0m\n\u001b[0;32m----> 1\u001b[0;31m \u001b[0mnombres\u001b[0m\u001b[0;34m[\u001b[0m\u001b[0;36m0\u001b[0m\u001b[0;34m]\u001b[0m\u001b[0;34m\u001b[0m\u001b[0;34m\u001b[0m\u001b[0m\n\u001b[0m",
      "\u001b[0;31mNameError\u001b[0m: name 'nombres' is not defined"
     ]
    }
   ],
   "source": [
    "nombres[0]"
   ]
  },
  {
   "cell_type": "code",
   "execution_count": null,
   "id": "120438aa",
   "metadata": {},
   "outputs": [],
   "source": [
    "len(nombres)"
   ]
  },
  {
   "cell_type": "code",
   "execution_count": null,
   "id": "7ffd9749",
   "metadata": {},
   "outputs": [],
   "source": [
    "sorted(nombres, reverse =True)"
   ]
  },
  {
   "cell_type": "code",
   "execution_count": null,
   "id": "297a2f33",
   "metadata": {},
   "outputs": [],
   "source": [
    "type(nombres)"
   ]
  },
  {
   "cell_type": "markdown",
   "id": "782bfb6e",
   "metadata": {},
   "source": [
    "## Listas"
   ]
  },
  {
   "cell_type": "code",
   "execution_count": null,
   "id": "32fb5b79",
   "metadata": {},
   "outputs": [],
   "source": [
    "edades = [22, 23, 21, 20, 22]\n",
    "edades"
   ]
  },
  {
   "cell_type": "code",
   "execution_count": null,
   "id": "d36986c5",
   "metadata": {},
   "outputs": [],
   "source": [
    "promedio = sum(edades) / len(edades)\n",
    "print(promedio)"
   ]
  },
  {
   "cell_type": "code",
   "execution_count": null,
   "id": "336b3445",
   "metadata": {},
   "outputs": [],
   "source": [
    "np.mean(edades)"
   ]
  },
  {
   "cell_type": "code",
   "execution_count": null,
   "id": "1332ec40",
   "metadata": {},
   "outputs": [],
   "source": [
    "type((edades, promedio))"
   ]
  },
  {
   "cell_type": "code",
   "execution_count": null,
   "id": "1746a903",
   "metadata": {},
   "outputs": [],
   "source": [
    "type(edades)"
   ]
  },
  {
   "cell_type": "code",
   "execution_count": null,
   "id": "a6336d82",
   "metadata": {},
   "outputs": [],
   "source": [
    "type(promedio)"
   ]
  },
  {
   "cell_type": "code",
   "execution_count": null,
   "id": "329619e5",
   "metadata": {},
   "outputs": [],
   "source": [
    "lista = [4, 4.5, 'Hola', None, True, 'True', edades, promedio]\n",
    "lista"
   ]
  },
  {
   "cell_type": "code",
   "execution_count": null,
   "id": "e069e209",
   "metadata": {},
   "outputs": [],
   "source": [
    "type(lista)"
   ]
  },
  {
   "cell_type": "code",
   "execution_count": null,
   "id": "92d92b03",
   "metadata": {},
   "outputs": [],
   "source": [
    "lista[6]"
   ]
  },
  {
   "cell_type": "code",
   "execution_count": null,
   "id": "120bdbdd",
   "metadata": {
    "scrolled": false
   },
   "outputs": [],
   "source": [
    "for element in lista:\n",
    "    print(element,'\\t\\t\\t', type(element))"
   ]
  },
  {
   "cell_type": "code",
   "execution_count": null,
   "id": "ebd87630",
   "metadata": {},
   "outputs": [],
   "source": [
    "lista2 = edades + lista\n",
    "lista2"
   ]
  },
  {
   "cell_type": "code",
   "execution_count": null,
   "id": "4f35d178",
   "metadata": {},
   "outputs": [],
   "source": [
    "lista2[11]"
   ]
  },
  {
   "cell_type": "code",
   "execution_count": null,
   "id": "66a00b4a",
   "metadata": {},
   "outputs": [],
   "source": [
    "lista2[0]"
   ]
  },
  {
   "cell_type": "code",
   "execution_count": null,
   "id": "48dd7550",
   "metadata": {},
   "outputs": [],
   "source": [
    "lista[0]=10"
   ]
  },
  {
   "cell_type": "code",
   "execution_count": null,
   "id": "536c0a22",
   "metadata": {},
   "outputs": [],
   "source": [
    "lista[0]"
   ]
  },
  {
   "cell_type": "code",
   "execution_count": null,
   "id": "da952c07",
   "metadata": {},
   "outputs": [],
   "source": [
    "lista2"
   ]
  },
  {
   "cell_type": "code",
   "execution_count": null,
   "id": "ba82df92",
   "metadata": {},
   "outputs": [],
   "source": [
    "lista2 = edades + lista\n",
    "lista2"
   ]
  },
  {
   "cell_type": "code",
   "execution_count": null,
   "id": "3a01a431",
   "metadata": {},
   "outputs": [],
   "source": [
    "lista"
   ]
  },
  {
   "cell_type": "code",
   "execution_count": null,
   "id": "d5a3b0df",
   "metadata": {},
   "outputs": [],
   "source": [
    "lista[6] = np.mean(edades)\n",
    "lista"
   ]
  },
  {
   "cell_type": "code",
   "execution_count": null,
   "id": "f6b7dcbc",
   "metadata": {},
   "outputs": [],
   "source": [
    "lista[5] = False\n",
    "lista"
   ]
  },
  {
   "cell_type": "code",
   "execution_count": null,
   "id": "1484ada9",
   "metadata": {},
   "outputs": [],
   "source": [
    "lista[2] = 19\n",
    "lista[3] = 25\n",
    "lista[4] = 30\n",
    "lista[5] = 35"
   ]
  },
  {
   "cell_type": "code",
   "execution_count": null,
   "id": "a34070ae",
   "metadata": {},
   "outputs": [],
   "source": [
    "lista"
   ]
  },
  {
   "cell_type": "code",
   "execution_count": null,
   "id": "9920ea8b",
   "metadata": {},
   "outputs": [],
   "source": [
    "listabreve = [False, True]"
   ]
  },
  {
   "cell_type": "code",
   "execution_count": null,
   "id": "2620f023",
   "metadata": {},
   "outputs": [],
   "source": [
    "listabreve[0] = 0\n",
    "listabreve[1] = 1\n",
    "listabreve"
   ]
  },
  {
   "cell_type": "code",
   "execution_count": null,
   "id": "75970c37",
   "metadata": {},
   "outputs": [],
   "source": [
    "lista"
   ]
  },
  {
   "cell_type": "code",
   "execution_count": null,
   "id": "e0f6dca4",
   "metadata": {},
   "outputs": [],
   "source": [
    "sorted(lista, reverse=True)"
   ]
  },
  {
   "cell_type": "code",
   "execution_count": null,
   "id": "512957a0",
   "metadata": {},
   "outputs": [],
   "source": [
    "lista[::-1]"
   ]
  },
  {
   "cell_type": "code",
   "execution_count": null,
   "id": "2ab2b5fd",
   "metadata": {},
   "outputs": [],
   "source": [
    "lista.reverse()"
   ]
  },
  {
   "cell_type": "code",
   "execution_count": null,
   "id": "6ef715ac",
   "metadata": {},
   "outputs": [],
   "source": [
    "lista.append(200)"
   ]
  },
  {
   "cell_type": "code",
   "execution_count": null,
   "id": "bac5c34e",
   "metadata": {},
   "outputs": [],
   "source": [
    "lista"
   ]
  },
  {
   "cell_type": "code",
   "execution_count": null,
   "id": "cce356d7",
   "metadata": {},
   "outputs": [],
   "source": [
    "lista.remove(200)"
   ]
  },
  {
   "cell_type": "code",
   "execution_count": null,
   "id": "1a0dd609",
   "metadata": {},
   "outputs": [],
   "source": [
    "lista"
   ]
  },
  {
   "cell_type": "code",
   "execution_count": null,
   "id": "f434263b",
   "metadata": {},
   "outputs": [],
   "source": [
    "sorted(lista)"
   ]
  },
  {
   "cell_type": "code",
   "execution_count": null,
   "id": "614ea18a",
   "metadata": {},
   "outputs": [],
   "source": [
    "lista[::-1]"
   ]
  },
  {
   "cell_type": "code",
   "execution_count": null,
   "id": "97deecfa",
   "metadata": {},
   "outputs": [],
   "source": [
    "lista.reverse()"
   ]
  },
  {
   "cell_type": "code",
   "execution_count": null,
   "id": "af2c0c3d",
   "metadata": {},
   "outputs": [],
   "source": [
    "lista"
   ]
  },
  {
   "cell_type": "code",
   "execution_count": null,
   "id": "d901322b",
   "metadata": {},
   "outputs": [],
   "source": [
    "lista"
   ]
  },
  {
   "cell_type": "code",
   "execution_count": null,
   "id": "7978a0cf",
   "metadata": {},
   "outputs": [],
   "source": [
    "lista[0]"
   ]
  },
  {
   "cell_type": "code",
   "execution_count": null,
   "id": "79368a7c",
   "metadata": {},
   "outputs": [],
   "source": [
    "lista.reverse()"
   ]
  },
  {
   "cell_type": "code",
   "execution_count": null,
   "id": "273b18ea",
   "metadata": {},
   "outputs": [],
   "source": [
    "lista.append(200)"
   ]
  },
  {
   "cell_type": "code",
   "execution_count": null,
   "id": "65e3efe5",
   "metadata": {},
   "outputs": [],
   "source": [
    "lista"
   ]
  },
  {
   "cell_type": "code",
   "execution_count": null,
   "id": "b0313074",
   "metadata": {},
   "outputs": [],
   "source": [
    "lista.extend([100,250])\n",
    "lista"
   ]
  },
  {
   "cell_type": "code",
   "execution_count": null,
   "id": "93bd8d9a",
   "metadata": {},
   "outputs": [],
   "source": [
    "edades"
   ]
  },
  {
   "cell_type": "code",
   "execution_count": null,
   "id": "5c1f2193",
   "metadata": {},
   "outputs": [],
   "source": [
    "edades.extend([10, 15, 30])"
   ]
  },
  {
   "cell_type": "code",
   "execution_count": null,
   "id": "b38b39a7",
   "metadata": {},
   "outputs": [],
   "source": [
    "edades"
   ]
  },
  {
   "cell_type": "code",
   "execution_count": null,
   "id": "67b088d3",
   "metadata": {},
   "outputs": [],
   "source": [
    "edades.remove(10)\n",
    "edades"
   ]
  },
  {
   "cell_type": "code",
   "execution_count": null,
   "id": "5231fdd0",
   "metadata": {},
   "outputs": [],
   "source": [
    "nombres = ['Mónica', 'Fer', 'Lorenza', 'Rodrigo']"
   ]
  },
  {
   "cell_type": "code",
   "execution_count": null,
   "id": "8f1e9679",
   "metadata": {},
   "outputs": [],
   "source": [
    "nombres.append('Rodrigo')\n",
    "nombres"
   ]
  },
  {
   "cell_type": "code",
   "execution_count": null,
   "id": "0029723a",
   "metadata": {},
   "outputs": [],
   "source": [
    "nombres.count('Rodrigo')"
   ]
  },
  {
   "cell_type": "code",
   "execution_count": null,
   "id": "ed504722",
   "metadata": {},
   "outputs": [],
   "source": [
    "nombres"
   ]
  },
  {
   "cell_type": "code",
   "execution_count": null,
   "id": "a145a6ae",
   "metadata": {},
   "outputs": [],
   "source": [
    "nombres[1::3]"
   ]
  },
  {
   "cell_type": "code",
   "execution_count": null,
   "id": "0987cd2a",
   "metadata": {},
   "outputs": [],
   "source": [
    "mensaje = 'hola gurpo de ciencia de datos'\n",
    "mensaje"
   ]
  },
  {
   "cell_type": "code",
   "execution_count": null,
   "id": "2addfb81",
   "metadata": {},
   "outputs": [],
   "source": [
    "mensaje.split()"
   ]
  },
  {
   "cell_type": "code",
   "execution_count": null,
   "id": "1676ce82",
   "metadata": {},
   "outputs": [],
   "source": [
    "mensaje_particionado = mensaje.split()\n",
    "mensaje_particionado"
   ]
  },
  {
   "cell_type": "code",
   "execution_count": null,
   "id": "08c924f4",
   "metadata": {},
   "outputs": [],
   "source": [
    "mensaje_particionado[0]"
   ]
  },
  {
   "cell_type": "code",
   "execution_count": null,
   "id": "911d5ead",
   "metadata": {},
   "outputs": [],
   "source": [
    "mensaje_particionado[5]"
   ]
  },
  {
   "cell_type": "code",
   "execution_count": null,
   "id": "648387c1",
   "metadata": {},
   "outputs": [],
   "source": [
    "mensaje_reconstruido = mensaje_particionado[0], mensaje_particionado[1]\n",
    "mensaje_reconstruido"
   ]
  },
  {
   "cell_type": "markdown",
   "id": "f057a065",
   "metadata": {},
   "source": [
    "## Tupla"
   ]
  },
  {
   "cell_type": "code",
   "execution_count": null,
   "id": "9169c410",
   "metadata": {},
   "outputs": [],
   "source": [
    "tupla = ('Monica', 'Fer', 'Rodrrigo')\n",
    "tupla"
   ]
  },
  {
   "cell_type": "code",
   "execution_count": null,
   "id": "fedb4cb1",
   "metadata": {},
   "outputs": [],
   "source": [
    "# Las tuplas no se modifican \n",
    "#tupla.append('Ximena')\n",
    "#tupla"
   ]
  },
  {
   "cell_type": "code",
   "execution_count": null,
   "id": "351e4094",
   "metadata": {},
   "outputs": [],
   "source": [
    "tupla2=('Alberto', 'Alex')\n",
    "tupla2"
   ]
  },
  {
   "cell_type": "code",
   "execution_count": null,
   "id": "477bf5fe",
   "metadata": {},
   "outputs": [],
   "source": [
    "tupla3 = tupla + tupla2\n",
    "print(tupla3)"
   ]
  },
  {
   "cell_type": "markdown",
   "id": "4212e01d",
   "metadata": {},
   "source": [
    "## Diccionarios"
   ]
  },
  {
   "cell_type": "code",
   "execution_count": null,
   "id": "d7502505",
   "metadata": {},
   "outputs": [],
   "source": [
    "diccionario = {3, 5, 2, 8, 5, 8}\n",
    "diccionario"
   ]
  },
  {
   "cell_type": "code",
   "execution_count": null,
   "id": "919c709b",
   "metadata": {},
   "outputs": [],
   "source": [
    "diccionario2 = {1: 'Fer', 7: 'Eduardo',9: 'Sergio',8: 'Natalia'}\n",
    "diccionario2"
   ]
  },
  {
   "cell_type": "code",
   "execution_count": null,
   "id": "742bdc5a",
   "metadata": {},
   "outputs": [],
   "source": [
    "type(diccionario2)"
   ]
  },
  {
   "cell_type": "code",
   "execution_count": null,
   "id": "8f9a484e",
   "metadata": {},
   "outputs": [],
   "source": [
    "type(diccionario2[1])"
   ]
  },
  {
   "cell_type": "code",
   "execution_count": null,
   "id": "984f3640",
   "metadata": {},
   "outputs": [],
   "source": [
    "diccionario2[7]"
   ]
  },
  {
   "cell_type": "code",
   "execution_count": null,
   "id": "9e8fda54",
   "metadata": {},
   "outputs": [],
   "source": [
    "diccionario2[8] = 'Lorenza'"
   ]
  },
  {
   "cell_type": "code",
   "execution_count": null,
   "id": "f3de3c67",
   "metadata": {},
   "outputs": [],
   "source": [
    "diccionario2"
   ]
  },
  {
   "cell_type": "code",
   "execution_count": null,
   "id": "7113fcaa",
   "metadata": {},
   "outputs": [],
   "source": [
    "'Fernando' in diccionario2"
   ]
  },
  {
   "cell_type": "code",
   "execution_count": null,
   "id": "a720784f",
   "metadata": {},
   "outputs": [],
   "source": [
    "'Fer' in diccionario2"
   ]
  },
  {
   "cell_type": "code",
   "execution_count": null,
   "id": "66f0ebb4",
   "metadata": {},
   "outputs": [],
   "source": [
    "4 in diccionario2"
   ]
  },
  {
   "cell_type": "code",
   "execution_count": null,
   "id": "5ad18ea4",
   "metadata": {},
   "outputs": [],
   "source": [
    "1 in diccionario2"
   ]
  },
  {
   "cell_type": "code",
   "execution_count": null,
   "id": "6e09bcd5",
   "metadata": {},
   "outputs": [],
   "source": [
    "diccionario3 = diccionario2.copy()"
   ]
  },
  {
   "cell_type": "code",
   "execution_count": null,
   "id": "b8f8b6ab",
   "metadata": {},
   "outputs": [],
   "source": [
    "diccionario3"
   ]
  },
  {
   "cell_type": "code",
   "execution_count": null,
   "id": "5d1b9528",
   "metadata": {},
   "outputs": [],
   "source": [
    "diccionario3[1]= 5\n",
    "diccionario3"
   ]
  },
  {
   "cell_type": "code",
   "execution_count": null,
   "id": "26210b3d",
   "metadata": {},
   "outputs": [],
   "source": [
    "diccionario2"
   ]
  },
  {
   "cell_type": "code",
   "execution_count": null,
   "id": "902d1d50",
   "metadata": {},
   "outputs": [],
   "source": [
    "diccionario2[8] = 'Sergio'\n",
    "diccionario2[9] = 'Lorenza'\n",
    "diccionario2"
   ]
  },
  {
   "cell_type": "code",
   "execution_count": null,
   "id": "6c51a967",
   "metadata": {},
   "outputs": [],
   "source": [
    "diccionario3 = diccionario2\n",
    "diccionario2"
   ]
  },
  {
   "cell_type": "code",
   "execution_count": null,
   "id": "1486630f",
   "metadata": {},
   "outputs": [],
   "source": [
    "diccionario2.clear()\n",
    "diccionario2"
   ]
  },
  {
   "cell_type": "code",
   "execution_count": null,
   "id": "14b2879f",
   "metadata": {},
   "outputs": [],
   "source": [
    "diccionario3"
   ]
  },
  {
   "cell_type": "code",
   "execution_count": null,
   "id": "92f234ff",
   "metadata": {},
   "outputs": [],
   "source": [
    "diccionario2 = {1: 'Fer', 7: 'Eduardo',9: 'Sergio',8: 'Natalia'}\n",
    "diccionario2"
   ]
  },
  {
   "cell_type": "code",
   "execution_count": null,
   "id": "c7c5a2c6",
   "metadata": {},
   "outputs": [],
   "source": [
    "diccionario2.keys()"
   ]
  },
  {
   "cell_type": "code",
   "execution_count": null,
   "id": "abd3b239",
   "metadata": {},
   "outputs": [],
   "source": [
    "diccionario2.values()"
   ]
  },
  {
   "cell_type": "code",
   "execution_count": null,
   "id": "df56b756",
   "metadata": {},
   "outputs": [],
   "source": []
  },
  {
   "cell_type": "code",
   "execution_count": null,
   "id": "f5726cc8",
   "metadata": {},
   "outputs": [],
   "source": []
  },
  {
   "cell_type": "code",
   "execution_count": null,
   "id": "b6eaa058",
   "metadata": {},
   "outputs": [],
   "source": []
  },
  {
   "cell_type": "code",
   "execution_count": null,
   "id": "94944649",
   "metadata": {},
   "outputs": [],
   "source": []
  },
  {
   "cell_type": "code",
   "execution_count": null,
   "id": "49ef774b",
   "metadata": {},
   "outputs": [],
   "source": []
  },
  {
   "cell_type": "code",
   "execution_count": null,
   "id": "46ce844c",
   "metadata": {},
   "outputs": [],
   "source": []
  },
  {
   "cell_type": "code",
   "execution_count": null,
   "id": "99ead0ab",
   "metadata": {},
   "outputs": [],
   "source": []
  },
  {
   "cell_type": "code",
   "execution_count": null,
   "id": "d97a030a",
   "metadata": {},
   "outputs": [],
   "source": []
  },
  {
   "cell_type": "code",
   "execution_count": null,
   "id": "bb110541",
   "metadata": {},
   "outputs": [],
   "source": []
  },
  {
   "cell_type": "code",
   "execution_count": null,
   "id": "abc2ae3e",
   "metadata": {},
   "outputs": [],
   "source": []
  },
  {
   "cell_type": "code",
   "execution_count": null,
   "id": "5f51e6cc",
   "metadata": {},
   "outputs": [],
   "source": []
  },
  {
   "cell_type": "code",
   "execution_count": null,
   "id": "8af4cb1b",
   "metadata": {},
   "outputs": [],
   "source": []
  },
  {
   "cell_type": "code",
   "execution_count": null,
   "id": "b138d1b6",
   "metadata": {},
   "outputs": [],
   "source": []
  },
  {
   "cell_type": "code",
   "execution_count": null,
   "id": "c81f9c30",
   "metadata": {},
   "outputs": [],
   "source": []
  },
  {
   "cell_type": "code",
   "execution_count": null,
   "id": "85ffd02e",
   "metadata": {},
   "outputs": [],
   "source": []
  },
  {
   "cell_type": "code",
   "execution_count": null,
   "id": "245ac63a",
   "metadata": {},
   "outputs": [],
   "source": []
  },
  {
   "cell_type": "code",
   "execution_count": null,
   "id": "3e6ed258",
   "metadata": {},
   "outputs": [],
   "source": []
  },
  {
   "cell_type": "code",
   "execution_count": null,
   "id": "3f86d79d",
   "metadata": {},
   "outputs": [],
   "source": []
  },
  {
   "cell_type": "code",
   "execution_count": null,
   "id": "f8b9632e",
   "metadata": {},
   "outputs": [],
   "source": []
  },
  {
   "cell_type": "code",
   "execution_count": null,
   "id": "43b627a0",
   "metadata": {},
   "outputs": [],
   "source": []
  },
  {
   "cell_type": "code",
   "execution_count": null,
   "id": "30b63ec9",
   "metadata": {},
   "outputs": [],
   "source": []
  },
  {
   "cell_type": "code",
   "execution_count": null,
   "id": "21b8ad54",
   "metadata": {},
   "outputs": [],
   "source": []
  },
  {
   "cell_type": "code",
   "execution_count": null,
   "id": "a9107d4b",
   "metadata": {},
   "outputs": [],
   "source": []
  },
  {
   "cell_type": "code",
   "execution_count": null,
   "id": "71f14e56",
   "metadata": {},
   "outputs": [],
   "source": []
  },
  {
   "cell_type": "code",
   "execution_count": null,
   "id": "dd45faf0",
   "metadata": {},
   "outputs": [],
   "source": []
  }
 ],
 "metadata": {
  "kernelspec": {
   "display_name": "Python 3",
   "language": "python",
   "name": "python3"
  },
  "language_info": {
   "codemirror_mode": {
    "name": "ipython",
    "version": 3
   },
   "file_extension": ".py",
   "mimetype": "text/x-python",
   "name": "python",
   "nbconvert_exporter": "python",
   "pygments_lexer": "ipython3",
   "version": "3.8.8"
  }
 },
 "nbformat": 4,
 "nbformat_minor": 5
}
